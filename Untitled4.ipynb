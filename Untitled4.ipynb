{
  "nbformat": 4,
  "nbformat_minor": 0,
  "metadata": {
    "colab": {
      "provenance": [],
      "authorship_tag": "ABX9TyNab3Fd8sv1pI46AJ8+30tT",
      "include_colab_link": true
    },
    "kernelspec": {
      "name": "python3",
      "display_name": "Python 3"
    },
    "language_info": {
      "name": "python"
    }
  },
  "cells": [
    {
      "cell_type": "markdown",
      "metadata": {
        "id": "view-in-github",
        "colab_type": "text"
      },
      "source": [
        "<a href=\"https://colab.research.google.com/github/hasanjonmuhammadiyev2-tech/NumPY/blob/main/Untitled4.ipynb\" target=\"_parent\"><img src=\"https://colab.research.google.com/assets/colab-badge.svg\" alt=\"Open In Colab\"/></a>"
      ]
    },
    {
      "cell_type": "code",
      "execution_count": 7,
      "metadata": {
        "id": "ajO-FzSvKWEg"
      },
      "outputs": [],
      "source": [
        "import pandas as pd"
      ]
    },
    {
      "cell_type": "code",
      "source": [
        "data={\n",
        "    \"Ism\":[\"Hasanjon\",\"Oybek\",\"Toxirjon\",\"Mansurjon\",\"Azimjon\"],\n",
        "    \"Familiya\":[\"Muhammadiyev\",\"Obidjonov\",\"Mavlonqulov\",\"Rahimnazarov\",\"Junaydullayev\"],\n",
        "    \"Yoshi\":[19,20,20,19,19],\n",
        "    \"T-gan viloyati\":[\"Farg'ona\",\"Farg'ona\",\"Farg'ona\",\"Namangan\",\"Namangan\"]\n",
        "}\n",
        "baza=pd.DataFrame(data)\n",
        "print(baza)"
      ],
      "metadata": {
        "colab": {
          "base_uri": "https://localhost:8080/"
        },
        "id": "aBZMydC2K1hf",
        "outputId": "c84a2ee2-1dd2-4dd3-b314-2a4cef18363a"
      },
      "execution_count": 8,
      "outputs": [
        {
          "output_type": "stream",
          "name": "stdout",
          "text": [
            "         Ism       Familiya  Yoshi T-gan viloyati\n",
            "0   Hasanjon   Muhammadiyev     19       Farg'ona\n",
            "1      Oybek      Obidjonov     20       Farg'ona\n",
            "2   Toxirjon    Mavlonqulov     20       Farg'ona\n",
            "3  Mansurjon   Rahimnazarov     19       Namangan\n",
            "4    Azimjon  Junaydullayev     19       Namangan\n"
          ]
        }
      ]
    },
    {
      "cell_type": "markdown",
      "source": [],
      "metadata": {
        "id": "tWriCBmLNl3O"
      }
    }
  ]
}